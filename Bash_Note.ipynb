{
 "cells": [
  {
   "cell_type": "markdown",
   "metadata": {},
   "source": [
    "##### Bash_Note.ipynb"
   ]
  },
  {
   "cell_type": "markdown",
   "metadata": {},
   "source": [
    "- **コンソールで打ち込む場合と、シェルファイルから実行する場合では、挙動が異なる場合がある。**\n",
    "- **「quote>」という文字が出てきたとき、、、、、**<br>\n",
    "「'」とか「`」とかクォート系が1個紛れ込むと、ターミナルは入力が続いてると判断するので、<br>\n",
    "コマンドを打ち切らずに入力を継続させるようになっています。<br>\n",
    "慌てず騒がずCtrl+cで入力を強制終了しましょう。"
   ]
  },
  {
   "cell_type": "markdown",
   "metadata": {},
   "source": [
    "- pauseみたいなことをしたいとき。"
   ]
  },
  {
   "cell_type": "code",
   "execution_count": 1,
   "metadata": {},
   "outputs": [
    {
     "ename": "SyntaxError",
     "evalue": "invalid syntax (<ipython-input-1-2e2dbe38b554>, line 1)",
     "output_type": "error",
     "traceback": [
      "\u001b[0;36m  File \u001b[0;32m\"<ipython-input-1-2e2dbe38b554>\"\u001b[0;36m, line \u001b[0;32m1\u001b[0m\n\u001b[0;31m    read -p \"Press any key...\"\u001b[0m\n\u001b[0m                             ^\u001b[0m\n\u001b[0;31mSyntaxError\u001b[0m\u001b[0;31m:\u001b[0m invalid syntax\n"
     ]
    }
   ],
   "source": [
    "read -p \"Press any key...\""
   ]
  },
  {
   "cell_type": "markdown",
   "metadata": {},
   "source": [
    "- 算術演算や比較演算したいとき。"
   ]
  },
  {
   "cell_type": "code",
   "execution_count": null,
   "metadata": {},
   "outputs": [],
   "source": [
    "\n",
    "/* ALTER TABLE <テーブル名> DROP PRIMARY KEY; */\n",
    "/* ALTER TABLE <テーブル名> PARTITION BY ROUNDROBIN PARTITIONS <パーティション数>; */\n",
    "ALTER TABLE WARDROBE_INFO_TMP1 DROP PRIMARY KEY;\n",
    "ALTER TABLE WARDROBE_INFO_TMP1 PARTITION BY ROUNDROBIN PARTITIONS 8;\n"
   ]
  },
  {
   "cell_type": "markdown",
   "metadata": {},
   "source": [
    "- 改行コードのエスケープ\n",
    "- 参考：http://osksn2.hep.sci.osaka-u.ac.jp/~taku/osx/crlf.html（nkfかtrコマンドを使って、改行コードを変換できる。）"
   ]
  },
  {
   "cell_type": "code",
   "execution_count": null,
   "metadata": {},
   "outputs": [],
   "source": [
    "/* クリティカルマージとは、デルタマージの大きさが特定の閾値を超えると、HANAが自動的に行うマージのこと。 */\n",
    "/* スマートマージ */\n",
    "MERGE DELTA OF <テーブル名> WITH PARAMETERS (‘SMART_MERGE’ = ‘ON');\n",
    "/* ハードマージ */\n",
    "MERGE DELTA OF <テーブル名> ;\n",
    "/* フォースマージは以下のどちらか。 */\n",
    "MERGE DELTA OF <テーブル名> FORCE REBUILD;\n",
    "MERGE DELTA OF <テーブル名> WITH PARAMETERS (‘FORCED_MERGE’ = ‘ON');"
   ]
  },
  {
   "cell_type": "markdown",
   "metadata": {},
   "source": [
    "- シングルクォートのエスケープ"
   ]
  },
  {
   "cell_type": "code",
   "execution_count": null,
   "metadata": {},
   "outputs": [],
   "source": [
    "SELECT winner, subject FROM nobel WHERE yr=1984\n",
    " ORDER BY subject IN (\n",
    "  'Physics', ‘Chemistry'\n",
    ") ASC, subject ASC, winner ASC;"
   ]
  },
  {
   "cell_type": "markdown",
   "metadata": {},
   "source": [
    "#### 配列\n",
    "- 配列を宣言する"
   ]
  },
  {
   "cell_type": "code",
   "execution_count": null,
   "metadata": {},
   "outputs": [],
   "source": [
    "SELECT name, continent FROM world WHERE continent IN (\n",
    "  SELECT continent FROM world WHERE name IN ('Argentina', 'Australia’)\n",
    ")\n",
    "ORDER BY name ASC;"
   ]
  },
  {
   "cell_type": "markdown",
   "metadata": {},
   "source": [
    "- 配列の長さ"
   ]
  },
  {
   "cell_type": "code",
   "execution_count": null,
   "metadata": {},
   "outputs": [],
   "source": [
    "SELECT name, population FROM world WHERE population BETWEEN (\n",
    "  SELECT population FROM world WHERE name = ‘Poland’\n",
    ") \n",
    "AND (\n",
    "  SELECT population FROM world WHERE name = ‘Canada’\n",
    ");"
   ]
  },
  {
   "cell_type": "markdown",
   "metadata": {},
   "source": [
    "- 配列のデータを参照する"
   ]
  },
  {
   "cell_type": "code",
   "execution_count": null,
   "metadata": {},
   "outputs": [],
   "source": [
    "# データの先頭要素を参照する\n",
    "${array[0]} # シェルファイルで打つ場合\n",
    "${array[1]} # コンソールで打つ場合\n",
    "# データの末尾要素を参照する\n",
    "${array[$((${#array[@]}-1))]} # シェルファイルで打つ場合\n",
    "${array[$((${#array[@]}))]} # コンソールで打つ場合"
   ]
  },
  {
   "cell_type": "markdown",
   "metadata": {},
   "source": [
    "- 配列にデータを追加する"
   ]
  },
  {
   "cell_type": "code",
   "execution_count": null,
   "metadata": {},
   "outputs": [],
   "source": [
    "# 先頭に追加\n",
    "array=(3 \"${array[@]}\")        # array は (3 “a” \"b\" \"c\")\n",
    "# 末尾に追加\n",
    "array=(\"${array[@]}\" 4)        # array は (3 \"a\" \"b\" \"c\" 4)\n",
    "array+=( 5 )                   # array は (3 \"a\" \"b\" \"c\" 4 5)"
   ]
  },
  {
   "cell_type": "markdown",
   "metadata": {},
   "source": [
    "- 配列からデータを取り出す"
   ]
  },
  {
   "cell_type": "code",
   "execution_count": null,
   "metadata": {},
   "outputs": [],
   "source": [
    "# データの先頭要素を取り出す（破壊的操作）\n",
    "array=(\"${array[@]:1}\")                   # array は (\"a\" \"b\" \"c\" 4 5)\n",
    "# データの末尾要素取り出す（破壊的操作）\n",
    "declare -i num=${#array[@]}-1\n",
    "array=(\"${array[@]:0:$num}\")              # array は (\"a\" \"b\" \"c\" 4)\n",
    "# 一行でも書けます\n",
    "array=(${array[@]:0:((${#array[@]}-1))})  # array は (\"a\" \"b\" \"c\")"
   ]
  },
  {
   "cell_type": "markdown",
   "metadata": {},
   "source": [
    "- 配列からデータを削除する"
   ]
  },
  {
   "cell_type": "code",
   "execution_count": null,
   "metadata": {},
   "outputs": [],
   "source": [
    "# ある要素を削除\n",
    "unset array[1]\n",
    "echo \"${array[@]}\"             # arrayは(\"a\" \"c\")"
   ]
  },
  {
   "cell_type": "markdown",
   "metadata": {},
   "source": [
    "#### ECHO\n",
    "- echo -n（Linuxのみで利用可、echoに改行を含めない）"
   ]
  },
  {
   "cell_type": "code",
   "execution_count": null,
   "metadata": {},
   "outputs": [],
   "source": [
    "echo -n \"改行なし\""
   ]
  },
  {
   "cell_type": "markdown",
   "metadata": {},
   "source": [
    "#### IF条件分岐\n",
    "- ifの使用例"
   ]
  },
  {
   "cell_type": "code",
   "execution_count": null,
   "metadata": {},
   "outputs": [],
   "source": [
    "if [ $size -eq 0 ]; then\n",
    "  # ファイルサイズ0なら、ゴミなので安心して削除\n",
    "  rm /tmp/hoge.txt\n",
    "elif [ $size -eq 100 ]; then\n",
    "  # ファイルサイズ100バイトなら、正常なのでここでは何もせず次へ進む。\n",
    "  :\n",
    "else\n",
    "  # ファイルサイズがこれ以外なら、おかしいのでエラー終了\n",
    "  echo 'Invalid file!' 1>&2\n",
    "  exit 1\n",
    "fi"
   ]
  },
  {
   "cell_type": "markdown",
   "metadata": {},
   "source": [
    "#### CASEで場合分け\n",
    "- キー入力によって動作を変える（read）\n",
    "- 参考：https://www.atmarkit.co.jp/ait/articles/1811/28/news003.html"
   ]
  },
  {
   "cell_type": "code",
   "execution_count": null,
   "metadata": {},
   "outputs": [],
   "source": [
    "#! /bin/bash\n",
    "read str       # 標準入力（キーボード）から1行受け取って変数strにセット\n",
    "case \"$str\" in # 変数strの内容で分岐\n",
    "    [Yy]|[Yy][Ee][Ss])\n",
    "        echo \"YES\"\n",
    "        echo \"OK\"\n",
    "        ;;\n",
    "    [Nn]|[Nn][Oo])\n",
    "        echo \"NO\"\n",
    "        ;;\n",
    "    *)\n",
    "        echo \"undefined\";;\n",
    "esac"
   ]
  },
  {
   "cell_type": "markdown",
   "metadata": {},
   "source": [
    "#### FOR繰り返し\n",
    "- forのフォーマット"
   ]
  },
  {
   "cell_type": "code",
   "execution_count": null,
   "metadata": {},
   "outputs": [],
   "source": [
    "for 繰り返し条件; do\n",
    "    # ...\n",
    "done\n"
   ]
  },
  {
   "cell_type": "markdown",
   "metadata": {},
   "source": [
    "- 初期値・ループ条件・ループ時の処理で指定する"
   ]
  },
  {
   "cell_type": "code",
   "execution_count": null,
   "metadata": {},
   "outputs": [],
   "source": [
    "max=10\n",
    "for ((i=0; i < $max; i++)); do\n",
    "    echo $i\n",
    "done"
   ]
  },
  {
   "cell_type": "markdown",
   "metadata": {},
   "source": [
    "- 値を直接指定する"
   ]
  },
  {
   "cell_type": "code",
   "execution_count": null,
   "metadata": {},
   "outputs": [],
   "source": [
    "for i in 0 1 3 5 8 9; do\n",
    "    echo $i\n",
    "done"
   ]
  },
  {
   "cell_type": "markdown",
   "metadata": {},
   "source": [
    "- 値の部分には変数を指定することも可能。"
   ]
  },
  {
   "cell_type": "code",
   "execution_count": null,
   "metadata": {},
   "outputs": [],
   "source": [
    "foo=\"0\"\n",
    "bar=\"1 3 5 8 9\"\n",
    "for i in $foo $bar; do\n",
    "    echo $i\n",
    "done"
   ]
  },
  {
   "cell_type": "markdown",
   "metadata": {},
   "source": [
    "- 値を範囲で指定する"
   ]
  },
  {
   "cell_type": "code",
   "execution_count": null,
   "metadata": {},
   "outputs": [],
   "source": [
    "for i in {0..9}; do\n",
    "    echo $i\n",
    "done"
   ]
  },
  {
   "cell_type": "markdown",
   "metadata": {},
   "source": [
    "- inの後方でバッククォートを使ってseqコマンドを実行しても同様のことが実現できる。"
   ]
  },
  {
   "cell_type": "code",
   "execution_count": null,
   "metadata": {},
   "outputs": [],
   "source": [
    "for i in `seq 0 9`; do\n",
    "    echo $i\n",
    "done"
   ]
  },
  {
   "cell_type": "markdown",
   "metadata": {},
   "source": [
    "- バッククォートの部分は$()でも同様のことができる。"
   ]
  },
  {
   "cell_type": "code",
   "execution_count": null,
   "metadata": {},
   "outputs": [],
   "source": [
    "for i in $(seq 0 9); do\n",
    "    echo $i\n",
    "done"
   ]
  },
  {
   "cell_type": "markdown",
   "metadata": {},
   "source": [
    "- 値を配列変数で指定する"
   ]
  },
  {
   "cell_type": "markdown",
   "metadata": {},
   "source": [
    "array=(0 1 2 3 4 5 6 7 8 9)\n",
    "for i in ${array[@]}; do\n",
    "    echo $i\n",
    "done"
   ]
  },
  {
   "cell_type": "markdown",
   "metadata": {},
   "source": [
    "- 値をファイルで指定する<br>\n",
    "number.txt "
   ]
  },
  {
   "cell_type": "markdown",
   "metadata": {},
   "source": [
    "0\n",
    "1\n",
    "2\n",
    "3\n",
    "4\n",
    "5\n",
    "6\n",
    "7\n",
    "8\n",
    "9"
   ]
  },
  {
   "cell_type": "markdown",
   "metadata": {},
   "source": [
    "for i in $(cat number.txt); do\n",
    "    echo $i \n",
    "done"
   ]
  },
  {
   "cell_type": "markdown",
   "metadata": {},
   "source": [
    "- 値にコマンドライン引数を利用する"
   ]
  },
  {
   "cell_type": "markdown",
   "metadata": {},
   "source": [
    "for i in \"$@\"; do\n",
    "    echo $i\n",
    "done"
   ]
  },
  {
   "cell_type": "markdown",
   "metadata": {},
   "source": [
    "#### DECLARE\n",
    "- declare 変数名（変数を定義する）"
   ]
  },
  {
   "cell_type": "markdown",
   "metadata": {},
   "source": [
    "declare a"
   ]
  },
  {
   "cell_type": "markdown",
   "metadata": {},
   "source": [
    "- declare 変数名=値（変数を定義する際に、値もセットする）"
   ]
  },
  {
   "cell_type": "markdown",
   "metadata": {},
   "source": [
    "declare a=‘abc'"
   ]
  },
  {
   "cell_type": "markdown",
   "metadata": {},
   "source": [
    "- declare -p 変数名（変数の定義内容を表示する）"
   ]
  },
  {
   "cell_type": "markdown",
   "metadata": {},
   "source": [
    "declare -p a"
   ]
  },
  {
   "cell_type": "markdown",
   "metadata": {},
   "source": [
    "- declare -p（現在定義されている変数の名前と定義内容を一覧表示する）"
   ]
  },
  {
   "cell_type": "markdown",
   "metadata": {},
   "source": [
    "declare -p"
   ]
  },
  {
   "cell_type": "markdown",
   "metadata": {},
   "source": [
    "- declare -F（現在定義されている関数の名前を一覧表示する）"
   ]
  },
  {
   "cell_type": "markdown",
   "metadata": {},
   "source": [
    "declare -F | head"
   ]
  },
  {
   "cell_type": "markdown",
   "metadata": {},
   "source": [
    "- declare -f 関数名（関数の内容を表示する）"
   ]
  },
  {
   "cell_type": "markdown",
   "metadata": {},
   "source": [
    "declare -f quote"
   ]
  },
  {
   "cell_type": "markdown",
   "metadata": {},
   "source": [
    "- declare -f（現在定義されている関数の名前と内容を一覧表示する）"
   ]
  },
  {
   "cell_type": "markdown",
   "metadata": {},
   "source": [
    "declare -f"
   ]
  },
  {
   "cell_type": "markdown",
   "metadata": {},
   "source": [
    "#### TRコマンドで文字列を置換や削除\n",
    "- tr 文字セット1 [文字セット2]（文字セット1を文字セット2に置換する。）\n",
    "- 参考：https://www.atmarkit.co.jp/ait/articles/1610/03/news017.html"
   ]
  },
  {
   "cell_type": "code",
   "execution_count": null,
   "metadata": {},
   "outputs": [],
   "source": [
    "# 改行を消せる。\n",
    "tr '\\012' ' '"
   ]
  },
  {
   "cell_type": "markdown",
   "metadata": {},
   "source": [
    "- tr -d 文字セット1（文字セット1を削除する。）"
   ]
  },
  {
   "cell_type": "code",
   "execution_count": null,
   "metadata": {},
   "outputs": [],
   "source": [
    "tr -d '\\012'"
   ]
  },
  {
   "cell_type": "markdown",
   "metadata": {},
   "source": [
    "#### Linuxマシンの情報を取得する\n",
    "- （CPUコア数）＝（物理CPUの数）×（CPUごとのコアの数）\n",
    "- 物理CPUの数"
   ]
  },
  {
   "cell_type": "markdown",
   "metadata": {},
   "source": [
    "grep physical.id /proc/cpuinfo | sort -u | wc -l"
   ]
  },
  {
   "cell_type": "markdown",
   "metadata": {},
   "source": [
    "- CPUごとのコアの数"
   ]
  },
  {
   "cell_type": "markdown",
   "metadata": {},
   "source": [
    "grep cpu.cores /proc/cpuinfo | sort -u"
   ]
  },
  {
   "cell_type": "markdown",
   "metadata": {},
   "source": [
    "- 論理プロセッサーの数"
   ]
  },
  {
   "cell_type": "markdown",
   "metadata": {},
   "source": [
    "grep processor /proc/cpuinfo | wc -l"
   ]
  },
  {
   "cell_type": "markdown",
   "metadata": {},
   "source": [
    "#### プロセスやCPU状況を監視\n",
    "- 参考：https://qiita.com/aosho235/items/c4d6995743dd1dac16e1\n",
    "- psでプロセスの様子をチェックする<br>\n",
    "（-eは全てのプロセスを表示、-fはプロセスの親子関係を表示）"
   ]
  },
  {
   "cell_type": "markdown",
   "metadata": {},
   "source": [
    "ps -ef | grep <プロセス名 or プロセスID>"
   ]
  },
  {
   "cell_type": "markdown",
   "metadata": {},
   "source": [
    "- topでリアルタイム監視（CPUやメモリを食っているプロセスを特定したい場合）"
   ]
  },
  {
   "cell_type": "markdown",
   "metadata": {},
   "source": [
    "top"
   ]
  },
  {
   "cell_type": "markdown",
   "metadata": {},
   "source": []
  },
  {
   "cell_type": "markdown",
   "metadata": {},
   "source": []
  },
  {
   "cell_type": "markdown",
   "metadata": {},
   "source": []
  },
  {
   "cell_type": "markdown",
   "metadata": {},
   "source": []
  }
 ],
 "metadata": {
  "kernelspec": {
   "display_name": "Python 3",
   "language": "python",
   "name": "python3"
  },
  "language_info": {
   "codemirror_mode": {
    "name": "ipython",
    "version": 3
   },
   "file_extension": ".py",
   "mimetype": "text/x-python",
   "name": "python",
   "nbconvert_exporter": "python",
   "pygments_lexer": "ipython3",
   "version": "3.7.2"
  }
 },
 "nbformat": 4,
 "nbformat_minor": 2
}
